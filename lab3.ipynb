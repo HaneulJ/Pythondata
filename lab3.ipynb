{
 "cells": [
  {
   "cell_type": "code",
   "execution_count": 2,
   "metadata": {},
   "outputs": [],
   "source": [
    "import requests\n",
    "from bs4 import BeautifulSoup\n",
    "\n",
    "req = requests.get('http://media.daum.net/ranking/popular/')\n",
    "req.encoding = \"utf-8\"\n",
    "html = req.text\n",
    "bs = BeautifulSoup(html, \"html.parser\")\n",
    "\n",
    "titles = bs.select(\"div.rank_news a.link_txt\")\n",
    "coms = bs.select(\"div.rank_news span.info_news\")\n",
    "\n",
    "newstitle = []\n",
    "newscomname = []\n",
    "\n",
    "for i in titles :\n",
    "    newstitle.append(i.text)\n",
    "\n",
    "for i in coms :\n",
    "    newscomname.append(i.text)\n",
    "    \n",
    "with open(\"output/news.csv\", \"wt\", encoding = \"utf-8\") as f:\n",
    "    f.write(\"newstitle, newscomname\\n\")\n",
    "    for x in range(len(newstitle)):\n",
    "        f.write(newstitle[x] + \",\" + newscomname[x] + \"\\n\")"
   ]
  },
  {
   "cell_type": "code",
   "execution_count": null,
   "metadata": {},
   "outputs": [],
   "source": []
  }
 ],
 "metadata": {
  "kernelspec": {
   "display_name": "pydatavenv",
   "language": "python",
   "name": "pydatavenv"
  },
  "language_info": {
   "codemirror_mode": {
    "name": "ipython",
    "version": 3
   },
   "file_extension": ".py",
   "mimetype": "text/x-python",
   "name": "python",
   "nbconvert_exporter": "python",
   "pygments_lexer": "ipython3",
   "version": "3.8.8"
  }
 },
 "nbformat": 4,
 "nbformat_minor": 4
}
