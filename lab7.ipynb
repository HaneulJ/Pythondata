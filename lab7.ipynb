{
 "cells": [
  {
   "cell_type": "code",
   "execution_count": 7,
   "metadata": {},
   "outputs": [],
   "source": [
    "from selenium import webdriver\n",
    "from selenium.webdriver.common.keys import Keys \n",
    "\n",
    "driver = webdriver.Chrome('C:/Temp/chromedriver')\n",
    "driver.implicitly_wait(3) \n",
    "driver.get('http://gs25.gsretail.com/gscvs/ko/products/event-goods/') \n",
    "import time\n",
    "time.sleep(2)\n",
    "\n",
    "target=driver.find_element_by_css_selector(\"#TWO_TO_ONE\")\n",
    "target.click()\n",
    "\n",
    "\n",
    "for dom in reviews:\n",
    "    content = dom.contents[6] \n",
    "    content=re.sub(\"원\", '', content)\n",
    "    content=re.sub(\",\", '', content)    "
   ]
  }
 ],
 "metadata": {
  "kernelspec": {
   "display_name": "pydatavenv",
   "language": "python",
   "name": "pydatavenv"
  },
  "language_info": {
   "codemirror_mode": {
    "name": "ipython",
    "version": 3
   },
   "file_extension": ".py",
   "mimetype": "text/x-python",
   "name": "python",
   "nbconvert_exporter": "python",
   "pygments_lexer": "ipython3",
   "version": "3.8.8"
  }
 },
 "nbformat": 4,
 "nbformat_minor": 4
}
