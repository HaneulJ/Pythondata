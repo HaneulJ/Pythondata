{
 "cells": [
  {
   "cell_type": "code",
   "execution_count": null,
   "metadata": {},
   "outputs": [],
   "source": [
    "from selenium import webdriver\n",
    "from selenium.webdriver.common.keys import Keys \n",
    "import re\n",
    "import time\n",
    "import pandas as pd\n",
    "\n",
    "driver = webdriver.Chrome('C:/Temp/chromedriver')\n",
    "driver.implicitly_wait(3) \n",
    "driver.get('http://gs25.gsretail.com/gscvs/ko/products/event-goods/') \n",
    "time.sleep(2)\n",
    "\n",
    "target = driver.find_element_by_css_selector(\"#TWO_TO_ONE\")\n",
    "target.click()"
   ]
  },
  {
   "cell_type": "code",
   "execution_count": null,
   "metadata": {},
   "outputs": [],
   "source": [
    "goodsname = []\n",
    "goodsprice = []\n",
    "\n",
    "while True:\n",
    "    names = driver.find_elements_by_css_selector('div > p.tit')\n",
    "    for i in names:\n",
    "        goodsname.append(i.text)\n",
    "    time.sleep(1)\n",
    "    \n",
    "    prices = driver.find_elements_by_css_selector('div > p.price')\n",
    "    for i in prices:\n",
    "        content = i.text\n",
    "        content = re.sub(\"원\", '', content)\n",
    "        content = re.sub(\",\", '', content) \n",
    "        goodsprice.append(content) \n",
    "    time.sleep(1)\n",
    "      \n",
    "    nextpage = driver.find_element_by_css_selector('div:nth-child(5) > div > a.next')  \n",
    "    if not nextpage.get_attribute(\"onclick\"):\n",
    "        break;   \n",
    "    else:\n",
    "        nextpage.click()"
   ]
  },
  {
   "cell_type": "code",
   "execution_count": null,
   "metadata": {},
   "outputs": [],
   "source": [
    "TwotoOne = pd.DataFrame(goodsname, goodsprice)\n",
    "TwotoOne.to_csv('output/TwotoOne.csv', encoding='cp949', mode='w', index=True)"
   ]
  },
  {
   "cell_type": "code",
   "execution_count": null,
   "metadata": {},
   "outputs": [],
   "source": []
  }
 ],
 "metadata": {
  "kernelspec": {
   "display_name": "pydatavenv",
   "language": "python",
   "name": "pydatavenv"
  },
  "language_info": {
   "codemirror_mode": {
    "name": "ipython",
    "version": 3
   },
   "file_extension": ".py",
   "mimetype": "text/x-python",
   "name": "python",
   "nbconvert_exporter": "python",
   "pygments_lexer": "ipython3",
   "version": "3.8.8"
  }
 },
 "nbformat": 4,
 "nbformat_minor": 4
}
