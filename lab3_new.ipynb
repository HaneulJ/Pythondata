{
 "cells": [
  {
   "cell_type": "code",
   "execution_count": 2,
   "metadata": {},
   "outputs": [],
   "source": [
    "import requests\n",
    "from bs4 import BeautifulSoup\n",
    "import re\n",
    "import pandas as pd\n",
    "\n",
    "\n",
    "r = requests.get(\"http://media.daum.net/ranking/popular/\")\n",
    "r.encoding = 'utf-8'\n",
    "bs = BeautifulSoup(r.text, \"html.parser\")   \n",
    "titles = bs.select(\"div.rank_news a.link_txt\")\n",
    "coms = bs.select(\"div.rank_news span.info_news\")\n",
    "                   \n",
    "newstitle = []\n",
    "newscomname = []\n",
    "\n",
    "for i in titles :\n",
    "    newstitle.append(i.text)\n",
    "\n",
    "for i in coms :\n",
    "    newscomname.append(i.text)\n",
    "\n",
    "data = {\n",
    "    \"newstitle\" : newstitle,\n",
    "    \"newscomname\" : newscomname,\n",
    "}\n",
    "df = pd.DataFrame(data)\n",
    "df.to_csv(\"./output/news_new.csv\", index = False, encoding=\"utf-8\")"
   ]
  },
  {
   "cell_type": "code",
   "execution_count": null,
   "metadata": {},
   "outputs": [],
   "source": []
  }
 ],
 "metadata": {
  "kernelspec": {
   "display_name": "pydatavenv",
   "language": "python",
   "name": "pydatavenv"
  },
  "language_info": {
   "codemirror_mode": {
    "name": "ipython",
    "version": 3
   },
   "file_extension": ".py",
   "mimetype": "text/x-python",
   "name": "python",
   "nbconvert_exporter": "python",
   "pygments_lexer": "ipython3",
   "version": "3.8.8"
  }
 },
 "nbformat": 4,
 "nbformat_minor": 4
}
