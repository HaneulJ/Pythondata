{
 "cells": [
  {
   "cell_type": "code",
   "execution_count": 36,
   "metadata": {},
   "outputs": [
    {
     "name": "stdout",
     "output_type": "stream",
     "text": [
      "[<h1>태그의 컨텐트] <h1>HTML의 링크 태그</h1>\n",
      "[텍스트 형식으로 내용을 가지고 <a>태그의 컨텐트와 href 속성값]\n",
      "World Wide Consortium : http://www.w3.org/\n",
      "Java Page : http://java.sun.com/\n",
      "Python Page : http://www.python.org/\n",
      "Web Client 기술 학습 : http://www.w3schools.com/\n",
      "None : http://java.sun.com/\n",
      "[<img>태그의 src속성값] http://unico2013.dothome.co.kr/image/duke.jpg\n",
      "[첫 번째 <h2>태그의 컨텐츠] <h2>좋아하는 색</h2>\n",
      "<ul>태그의 자식 태그들 중 style 속성의 값이 green으로 끝나는 태그의 컨텐트] 녹색\n",
      "[두 번째 <h2>태그의 컨텐츠] 먹고싶은 음식\n",
      "[<ol>태그의 모든 자식 태그들의 컨텐츠] \n",
      "짜장면\n",
      "냉면\n",
      "돈까스\n",
      "갈비\n",
      "\n",
      "[<table>태그의 모든 자손 태그들의 컨텐츠] \n",
      "둘리또치도우너\n",
      "케라토사우루스타조외계인\n",
      "도봉구 쌍문동아프리카깐따삐아 별\n",
      "\n",
      "[name이라는 클래스 속성을 갖는 <tr>태그의 컨텐트] 둘리또치도우너\n",
      "[target이라는 아이디 속성을 갖는 <td> 태그의 컨텐트] 아프리카\n"
     ]
    }
   ],
   "source": [
    "from urllib.parse import urlparse\n",
    "from urllib.parse import urlencode\n",
    "from bs4 import BeautifulSoup\n",
    "import requests\n",
    "import bs4\n",
    "import re\n",
    "\n",
    "url ='http://unico2013.dothome.co.kr/crawling/exercise_bs.html'\n",
    "r = requests.get(url)\n",
    "r.encoding = \"utf-8\"\n",
    "\n",
    "bs = BeautifulSoup(r.text, 'html.parser')\n",
    "\n",
    "#1 \n",
    "print(\"[<h1>태그의 컨텐트]\", bs.h1)\n",
    "\n",
    "#2\n",
    "print(\"[텍스트 형식으로 내용을 가지고 <a>태그의 컨텐트와 href 속성값]\")\n",
    "atags = bs.find_all('a')\n",
    "for tag in atags:\n",
    "    print(tag.string,\":\", tag[\"href\"])\n",
    "    \n",
    "#3\n",
    "print(\"[<img>태그의 src속성값]\", bs.img[\"src\"])\n",
    "\n",
    "#4\n",
    "print(\"[첫 번째 <h2>태그의 컨텐츠]\", bs.find(\"h2\"))\n",
    "\n",
    "#5\n",
    "print(\"<ul>태그의 자식 태그들 중 style 속성의 값이 green으로 끝나는 태그의 컨텐트]\", bs.ul.find(style=re.compile(\"green\")).text)\n",
    "\n",
    "#6\n",
    "print(\"[두 번째 <h2>태그의 컨텐츠]\", bs.find_all(\"h2\")[1].text)\n",
    "\n",
    "#7\n",
    "print(\"[<ol>태그의 모든 자식 태그들의 컨텐츠]\", bs.ol.text)\n",
    "\n",
    "#8\n",
    "print(\"[<table>태그의 모든 자손 태그들의 컨텐츠]\", bs.table.text)\n",
    "\n",
    "#9\n",
    "print(\"[name이라는 클래스 속성을 갖는 <tr>태그의 컨텐트]\", bs.find(\"tr\",class_=\"name\").text)\n",
    "\n",
    "#10\n",
    "print(\"[target이라는 아이디 속성을 갖는 <td> 태그의 컨텐트]\", bs.find(id = \"target\").text)"
   ]
  }
 ],
 "metadata": {
  "kernelspec": {
   "display_name": "pydatavenv",
   "language": "python",
   "name": "pydatavenv"
  },
  "language_info": {
   "codemirror_mode": {
    "name": "ipython",
    "version": 3
   },
   "file_extension": ".py",
   "mimetype": "text/x-python",
   "name": "python",
   "nbconvert_exporter": "python",
   "pygments_lexer": "ipython3",
   "version": "3.8.8"
  }
 },
 "nbformat": 4,
 "nbformat_minor": 4
}
